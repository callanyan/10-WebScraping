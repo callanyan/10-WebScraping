{
 "cells": [
  {
   "cell_type": "code",
   "execution_count": 1,
   "metadata": {},
   "outputs": [],
   "source": [
    "#DEPENDENCIES\n",
    "import pandas as pd\n",
    "from bs4 import BeautifulSoup as bs\n",
    "import requests\n",
    "from pprint import pprint\n"
   ]
  },
  {
   "cell_type": "code",
   "execution_count": 2,
   "metadata": {},
   "outputs": [
    {
     "name": "stdout",
     "output_type": "stream",
     "text": [
      "NASA's InSight Places First Instrument on Mars\n",
      "NASA Announces Landing Site for Mars 2020 Rover\n",
      "Opportunity Hunkers Down During Dust Storm\n",
      "NASA Finds Ancient Organic Material, Mysterious Methane on Mars\n",
      "NASA Invests in Visionary Technology\n",
      "NASA is Ready to Study the Heart of Mars\n",
      "\n",
      "\n",
      "In deploying its first instrument onto the surface of Mars, the lander completes a major mission milestone.\n",
      "After a five-year search, NASA has chosen Jezero Crater as the landing site for its upcoming Mars 2020 rover mission.\n",
      "It's the beginning of the end for the planet-encircling dust storm on Mars. But it could still be weeks, or even months, before skies are clear enough for NASA's Opportunity rover to recharge its batteries and phone home.\n",
      "NASA’s Curiosity rover has found evidence on Mars with implications for NASA’s search for life.\n",
      "NASA is investing in technology concepts, including several from JPL, that may one day be used for future space exploration missions.\n",
      "NASA is about to go on a journey to study the center of Mars.\n"
     ]
    }
   ],
   "source": [
    "#INITIALIZE ARRAYS\n",
    "MarsNewsTitles = []\n",
    "MarsNewsContent = []\n",
    "\n",
    "#GET THE RESPONSE, PARSE THE RESPONSE \n",
    "nasaNews_url = \"https://mars.nasa.gov/news/?page=0&per_page=20&order=publish_date+desc%2Ccreated_at+desc&search=&category=19%2C165%2C184%2C204&blank_scope=Latest\"\n",
    "news_response = requests.get(nasaNews_url)\n",
    "news_parsed = bs(news_response.text, \"html.parser\")\n",
    "\n",
    "#PRINT TO CHECK AND INSPECT THE NEWS_PARSED FILE\n",
    "#pprint (news_parsed)\n",
    "\n",
    "#FIND AND APPEND TITLE\n",
    "for div_title in news_parsed.find_all(\"div\", class_=\"content_title\"):\n",
    "    #print(div_title.find(\"a\").text.strip())\n",
    "    MarsNewsTitles.append(div_title.find(\"a\").text.strip())\n",
    "\n",
    "#FIND AND APPEND DESCRIPTION\n",
    "for div_content in news_parsed.find_all(\"div\", class_=\"rollover_description_inner\"):\n",
    "    #print(div_content.text.strip())\n",
    "    MarsNewsContent.append(div_content.text.strip())\n",
    "    \n",
    "#PRINT TO CHECK LISTS\n",
    "for item in MarsNewsTitles:\n",
    "    print(item)\n",
    "print(\"\\n\")\n",
    "for item in MarsNewsContent:\n",
    "    print(item)"
   ]
  },
  {
   "cell_type": "code",
   "execution_count": 3,
   "metadata": {},
   "outputs": [
    {
     "name": "stdout",
     "output_type": "stream",
     "text": [
      "https://www.jpl.nasa.gov/spaceimages/images/largesize/PIA22943_hires.jpg\n"
     ]
    }
   ],
   "source": [
    "#GET THE RESPONSE, PARSE THE RESPONSE \n",
    "jplImage_url = \"https://www.jpl.nasa.gov/spaceimages/?search=&category=Mars)\"\n",
    "image_response = requests.get(jplImage_url)\n",
    "image_parsed = bs(image_response.text, \"html.parser\")\n",
    "\n",
    "#PRINT TO CHECK AND INSPECT THE IMAGE_PARSED FILE\n",
    "#pprint (image_parsed)\n",
    "\n",
    "#FIND LIST OF IMAGES AS UNORDERED LIST CLASS ARTICLES\n",
    "images = image_parsed.find(\"ul\", class_=\"articles\")\n",
    "#print(images)\n",
    "\n",
    "#FIND FIRST IMAGE <A> TAG\n",
    "firstImage = images.find(\"a\")\n",
    "#print(firstImage)\n",
    "\n",
    "#FIND URL END IN <A> TAG\n",
    "firstImageLink = firstImage.attrs['data-fancybox-href']\n",
    "#print(imageLinkEnd)\n",
    "\n",
    "#COMBINE URL START TO END FOUND IN <A> TAG\n",
    "firstImageLink = \"https://www.jpl.nasa.gov\" + firstImageLink\n",
    "print(firstImageLink)\n"
   ]
  },
  {
   "cell_type": "code",
   "execution_count": 4,
   "metadata": {},
   "outputs": [
    {
     "name": "stdout",
     "output_type": "stream",
     "text": [
      "Sol 2305 (2019-01-30), high -4C/24F, low -73C/-99F, pressure at 8.14 hPa, daylight 06:47-18:54\n"
     ]
    }
   ],
   "source": [
    "#GET THE RESPONSE, PARSE THE RESPONSE \n",
    "twitterWeather_url = \"https://twitter.com/marswxreport?lang=en\"\n",
    "weather_response = requests.get(twitterWeather_url)\n",
    "weather_parsed = bs(weather_response.text, \"html.parser\")\n",
    "\n",
    "#PRINT TO CHECK AND INSPECT THE WEATHER_PARSED FILE\n",
    "#pprint (weather_parsed)\n",
    "\n",
    "#FIND WEATHER TWEET STREAM\n",
    "weatherStream = weather_parsed.find(\"div\", class_=\"stream\")\n",
    "#print (weatherStream)\n",
    "\n",
    "#FIND LATEST TWEET IN STREAM USING FIND\n",
    "currentTweet = weatherStream.find(\"li\")\n",
    "#print (currentTweet)\n",
    "\n",
    "#FIND WEATHER BY ISOLATING FIRST CONTENT OF LATEST TWEET. USING FIND WOULD GIVE ME CONTENTS OF THE <A> TAG WITHIN TOO\n",
    "mars_weather = currentTweet.p.contents[0].strip()\n",
    "print(mars_weather)"
   ]
  },
  {
   "cell_type": "code",
   "execution_count": 5,
   "metadata": {},
   "outputs": [
    {
     "data": {
      "text/html": [
       "<div>\n",
       "<style scoped>\n",
       "    .dataframe tbody tr th:only-of-type {\n",
       "        vertical-align: middle;\n",
       "    }\n",
       "\n",
       "    .dataframe tbody tr th {\n",
       "        vertical-align: top;\n",
       "    }\n",
       "\n",
       "    .dataframe thead th {\n",
       "        text-align: right;\n",
       "    }\n",
       "</style>\n",
       "<table border=\"1\" class=\"dataframe\">\n",
       "  <thead>\n",
       "    <tr style=\"text-align: right;\">\n",
       "      <th></th>\n",
       "      <th>0</th>\n",
       "      <th>1</th>\n",
       "    </tr>\n",
       "  </thead>\n",
       "  <tbody>\n",
       "    <tr>\n",
       "      <th>0</th>\n",
       "      <td>Equatorial Diameter:</td>\n",
       "      <td>6,792 km</td>\n",
       "    </tr>\n",
       "    <tr>\n",
       "      <th>1</th>\n",
       "      <td>Polar Diameter:</td>\n",
       "      <td>6,752 km</td>\n",
       "    </tr>\n",
       "    <tr>\n",
       "      <th>2</th>\n",
       "      <td>Mass:</td>\n",
       "      <td>6.42 x 10^23 kg (10.7% Earth)</td>\n",
       "    </tr>\n",
       "    <tr>\n",
       "      <th>3</th>\n",
       "      <td>Moons:</td>\n",
       "      <td>2 (Phobos &amp; Deimos)</td>\n",
       "    </tr>\n",
       "    <tr>\n",
       "      <th>4</th>\n",
       "      <td>Orbit Distance:</td>\n",
       "      <td>227,943,824 km (1.52 AU)</td>\n",
       "    </tr>\n",
       "    <tr>\n",
       "      <th>5</th>\n",
       "      <td>Orbit Period:</td>\n",
       "      <td>687 days (1.9 years)</td>\n",
       "    </tr>\n",
       "    <tr>\n",
       "      <th>6</th>\n",
       "      <td>Surface Temperature:</td>\n",
       "      <td>-153 to 20 °C</td>\n",
       "    </tr>\n",
       "    <tr>\n",
       "      <th>7</th>\n",
       "      <td>First Record:</td>\n",
       "      <td>2nd millennium BC</td>\n",
       "    </tr>\n",
       "    <tr>\n",
       "      <th>8</th>\n",
       "      <td>Recorded By:</td>\n",
       "      <td>Egyptian astronomers</td>\n",
       "    </tr>\n",
       "  </tbody>\n",
       "</table>\n",
       "</div>"
      ],
      "text/plain": [
       "                      0                              1\n",
       "0  Equatorial Diameter:                       6,792 km\n",
       "1       Polar Diameter:                       6,752 km\n",
       "2                 Mass:  6.42 x 10^23 kg (10.7% Earth)\n",
       "3                Moons:            2 (Phobos & Deimos)\n",
       "4       Orbit Distance:       227,943,824 km (1.52 AU)\n",
       "5         Orbit Period:           687 days (1.9 years)\n",
       "6  Surface Temperature:                  -153 to 20 °C\n",
       "7         First Record:              2nd millennium BC\n",
       "8          Recorded By:           Egyptian astronomers"
      ]
     },
     "execution_count": 5,
     "metadata": {},
     "output_type": "execute_result"
    }
   ],
   "source": [
    "#GET THE RESPONSE, PARSE THE RESPONSE \n",
    "facts_url = \"https://space-facts.com/mars/\"\n",
    "\n",
    "#GET TABLES FROM URL INTO VARIABLE TABLES\n",
    "tables = pd.read_html(facts_url)\n",
    "#print(tables)\n",
    "\n",
    "#MAKE TABLE INTO DATAFRAME\n",
    "factsDf = tables[0]\n",
    "factsDf"
   ]
  },
  {
   "cell_type": "code",
   "execution_count": 6,
   "metadata": {},
   "outputs": [],
   "source": [
    "#WRITE TO HTML\n",
    "factsDf.to_html('MarsFactsTable.html')"
   ]
  },
  {
   "cell_type": "code",
   "execution_count": null,
   "metadata": {},
   "outputs": [],
   "source": []
  },
  {
   "cell_type": "code",
   "execution_count": null,
   "metadata": {},
   "outputs": [],
   "source": []
  },
  {
   "cell_type": "code",
   "execution_count": null,
   "metadata": {},
   "outputs": [],
   "source": []
  }
 ],
 "metadata": {
  "kernelspec": {
   "display_name": "Python 3",
   "language": "python",
   "name": "python3"
  },
  "language_info": {
   "codemirror_mode": {
    "name": "ipython",
    "version": 3
   },
   "file_extension": ".py",
   "mimetype": "text/x-python",
   "name": "python",
   "nbconvert_exporter": "python",
   "pygments_lexer": "ipython3",
   "version": "3.7.0"
  }
 },
 "nbformat": 4,
 "nbformat_minor": 2
}
